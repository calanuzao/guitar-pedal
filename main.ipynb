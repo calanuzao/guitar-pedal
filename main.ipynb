{
 "cells": [
  {
   "cell_type": "markdown",
   "metadata": {},
   "source": [
    "# Final Project"
   ]
  },
  {
   "cell_type": "code",
   "execution_count": 6,
   "metadata": {
    "scrolled": true
   },
   "outputs": [],
   "source": [
    "import numpy as np\n",
    "import matplotlib.pyplot as plt\n",
    "from IPython.display import Audio\n",
    "import utils as u"
   ]
  },
  {
   "cell_type": "markdown",
   "metadata": {},
   "source": [
    "# Wah-Wah\n",
    "\n",
    "\"The wah-wah effect gives a voice-like quality to an input signal by simulating the formants found in speech [23]. The first formnt of the [u] vowel is roughly located around 300 Hz, and the first two formants of the [a] vowel are located at apporximately 750 and 1200 Hz. Therefore, the wah-wah simulates the transitions between vowels by adjusting the center frequency of its filter in roughly this range (the exact range depend on the manufacturer and model of pedal, but te range between 400 and 1200 Hz is typical). Wah-wah could be considered a simple form of speech synthesizer, though notclose enough to be truly mistaken for a vowel sound\" (Audio Effects: Theory, Implementation and Application pg.106)\n",
    "\n",
    "$$H_{LP, Res}(z)=\\frac{^2_c(z^2+2z+1)}{^2_c+_c/G_c+1z^2+2 ^2_c -1z + ^2_c - _c/G_c+1}$$"
   ]
  },
  {
   "cell_type": "markdown",
   "metadata": {},
   "source": [
    "### Tremolo-Wah\n",
    "Center frequency controlled by LFO + periodic change in amplitude = tremolo-wah\n",
    "\n",
    "$$y[n]=w[n]g[n] \\; \\text{where} \\; g[n] = 1 + \\alpha \\cos(\\omega n)$$\n",
    "\n",
    "$y[n]$ = Output of the entire tremolo-wah\n",
    "$w[n]$ = Output of the auto-wah section\n",
    "$g[n]$ = Time varying gain factor\n",
    "$\\omega$ = Normalized angular frequency"
   ]
  },
  {
   "cell_type": "markdown",
   "metadata": {},
   "source": [
    "#  Implementation\n",
    "Effect uses second-order IIR Filters\n",
    "\n",
    "### LFO\n",
    "The center frequency of the filter over time with sinusoidal LFO and sample rate $f_s$ can be written as\n",
    "$$f_c[n]=f_{min}+0.5W(1+ \\cos(2\\pi f_{LFO}n/f_s))$$\n",
    "\n",
    "### Envelope Follower\n",
    "Scales the center frequency of the filter proportionally to the level of the input signal\n",
    "\n",
    "### Level Based Detectors"
   ]
  },
  {
   "cell_type": "code",
   "execution_count": null,
   "metadata": {},
   "outputs": [],
   "source": []
  }
 ],
 "metadata": {
  "kernelspec": {
   "display_name": "Python 3 (ipykernel)",
   "language": "python",
   "name": "python3"
  },
  "language_info": {
   "codemirror_mode": {
    "name": "ipython",
    "version": 3
   },
   "file_extension": ".py",
   "mimetype": "text/x-python",
   "name": "python",
   "nbconvert_exporter": "python",
   "pygments_lexer": "ipython3",
   "version": "3.12.1"
  }
 },
 "nbformat": 4,
 "nbformat_minor": 2
}
